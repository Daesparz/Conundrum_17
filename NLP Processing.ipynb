{
 "cells": [
  {
   "cell_type": "markdown",
   "metadata": {},
   "source": [
    "## Analysis of user reviews\n",
    "\n",
    "In this section, we apply Natural Language preprocessing techniques to find meaningful keywords. We want to predict ratings, recommendations from user reviews and discover the most common topics into the reviews to realize if there are some particular (or transversal) improvements that we can do in every department and division."
   ]
  },
  {
   "cell_type": "code",
   "execution_count": 1,
   "metadata": {},
   "outputs": [
    {
     "name": "stderr",
     "output_type": "stream",
     "text": [
      "/Users/daniela/anaconda3/lib/python3.7/site-packages/matplotlib/__init__.py:1003: UserWarning: Duplicate key in file \"/Users/daniela/.matplotlib/matplotlibrc\", line #2\n",
      "  (fname, cnt))\n",
      "/Users/daniela/anaconda3/lib/python3.7/site-packages/matplotlib/__init__.py:1003: UserWarning: Duplicate key in file \"/Users/daniela/.matplotlib/matplotlibrc\", line #3\n",
      "  (fname, cnt))\n"
     ]
    }
   ],
   "source": [
    "import pandas as pd\n",
    "import seaborn as sns\n",
    "import numpy as np\n",
    "import scipy as scp\n",
    "import matplotlib.pyplot as plt\n",
    "\n",
    "import statsmodels.api as sm\n",
    "import scipy.stats as stats\n",
    "import pylab\n",
    "\n",
    "\n",
    "from nltk.corpus import stopwords\n",
    "from nltk.tokenize import word_tokenize \n",
    "import nltk\n",
    "from nltk.stem import WordNetLemmatizer\n",
    "from nltk.tag import pos_tag\n",
    "import re"
   ]
  },
  {
   "cell_type": "code",
   "execution_count": 2,
   "metadata": {},
   "outputs": [],
   "source": [
    "pd.set_option('display.max_colwidth', -1)"
   ]
  },
  {
   "cell_type": "code",
   "execution_count": 3,
   "metadata": {},
   "outputs": [],
   "source": [
    "df_review = pd.read_csv('dataset/raw/Womens_Clothing_E-Commerce_Reviews.csv', index_col=0)"
   ]
  },
  {
   "cell_type": "code",
   "execution_count": 4,
   "metadata": {},
   "outputs": [
    {
     "name": "stdout",
     "output_type": "stream",
     "text": [
      "<class 'pandas.core.frame.DataFrame'>\n",
      "Int64Index: 23486 entries, 0 to 23485\n",
      "Data columns (total 10 columns):\n",
      "Clothing ID                23486 non-null int64\n",
      "Age                        23486 non-null int64\n",
      "Title                      19676 non-null object\n",
      "Review Text                22641 non-null object\n",
      "Rating                     23486 non-null int64\n",
      "Recommended IND            23486 non-null int64\n",
      "Positive Feedback Count    23486 non-null int64\n",
      "Division Name              23472 non-null object\n",
      "Department Name            23472 non-null object\n",
      "Class Name                 23472 non-null object\n",
      "dtypes: int64(5), object(5)\n",
      "memory usage: 2.0+ MB\n"
     ]
    }
   ],
   "source": [
    "df_review.info()"
   ]
  },
  {
   "cell_type": "markdown",
   "metadata": {},
   "source": [
    "### 1. Text Normalization and tokens"
   ]
  },
  {
   "cell_type": "code",
   "execution_count": 20,
   "metadata": {},
   "outputs": [],
   "source": [
    "stop_words = set(stopwords.words('english')) \n",
    "wordnet_lemmatizer = WordNetLemmatizer()\n",
    "\n",
    "def pre_processing(text):\n",
    "    # Filtering special characters\n",
    "    try:\n",
    "        text = re.sub(r'[^a-zA-Z\\s]','', text.lower())\n",
    "        text = text.replace('xxxx', '')\n",
    "        # Tokenization and filtering stop-words\n",
    "        tokens = word_tokenize(text)\n",
    "        lem = []\n",
    "        for word, tag in pos_tag(tokens):\n",
    "            if word not in stop_words:\n",
    "                if tag.startswith(\"NN\"):\n",
    "                    nn =  wordnet_lemmatizer.lemmatize(word, pos='n')\n",
    "                    lem.append(nn)\n",
    "                elif tag.startswith('VB'):\n",
    "                    vv = wordnet_lemmatizer.lemmatize(word, pos='v')\n",
    "                    lem.append(vv)\n",
    "                elif tag.startswith('JJ'):\n",
    "                    aa =  wordnet_lemmatizer.lemmatize(word, pos='a')\n",
    "                    lem.append(aa)\n",
    "                else:\n",
    "                    w = word\n",
    "                    lem.append(w)\n",
    "\n",
    "        text_norm = ' '.join(lem)\n",
    "    \n",
    "    except:\n",
    "        text_norm = ''\n",
    "    \n",
    "    return text_norm"
   ]
  },
  {
   "cell_type": "markdown",
   "metadata": {},
   "source": [
    "Example:"
   ]
  },
  {
   "cell_type": "code",
   "execution_count": 25,
   "metadata": {},
   "outputs": [
    {
     "name": "stdout",
     "output_type": "stream",
     "text": [
      "Original Text: Absolutely wonderful - silky and sexy and comfortable\n"
     ]
    }
   ],
   "source": [
    "print(\"Original Text: {0:s}\".format(df_review['Review Text'][0]))"
   ]
  },
  {
   "cell_type": "code",
   "execution_count": 26,
   "metadata": {},
   "outputs": [
    {
     "name": "stdout",
     "output_type": "stream",
     "text": [
      "Normalized Text: absolutely wonderful silky sexy comfortable\n"
     ]
    }
   ],
   "source": [
    "print(\"Normalized Text: {0:s}\".format(pre_processing(df_review['Review Text'][0])))"
   ]
  },
  {
   "cell_type": "code",
   "execution_count": 21,
   "metadata": {},
   "outputs": [],
   "source": [
    "df_review['Review_norm'] = df_review['Review Text'].apply(pre_processing)"
   ]
  },
  {
   "cell_type": "code",
   "execution_count": null,
   "metadata": {},
   "outputs": [],
   "source": [
    "def tokens_counter(text):\n",
    "    text = re.sub(r'[^a-zA-Z\\s]','', text.lower())\n",
    "    tokens = word_tokenize(text)\n",
    "    return len(tokens)"
   ]
  },
  {
   "cell_type": "markdown",
   "metadata": {},
   "source": [
    "### 2. Polarity metrics\n",
    "\n",
    "#### a. TextBlob\n",
    "\n",
    "Defining the sentiment parameters pattern function using one of the sentiment analyzer provides for TextBlob"
   ]
  },
  {
   "cell_type": "code",
   "execution_count": 8,
   "metadata": {},
   "outputs": [],
   "source": [
    "from textblob.sentiments import PatternAnalyzer\n",
    "from textblob import TextBlob\n",
    "\n",
    "def sentiment_parameters_textblob(text_data):\n",
    "    dict_textblob = {}\n",
    "    try:\n",
    "        blob = TextBlob(text_data, analyzer=PatternAnalyzer())\n",
    "        dict_textblob['polarity'] = blob.sentiment.polarity\n",
    "        dict_textblob['subjectivity'] = blob.sentiment.subjectivity   \n",
    "    except:\n",
    "        dict_textblob['polarity'] = np.nan\n",
    "        dict_textblob['subjectivity'] = np.nan\n",
    "    return dict_textblob"
   ]
  },
  {
   "cell_type": "markdown",
   "metadata": {},
   "source": [
    "#### b. nltk Sentiment Intensity Analyzer"
   ]
  },
  {
   "cell_type": "code",
   "execution_count": 9,
   "metadata": {},
   "outputs": [
    {
     "name": "stderr",
     "output_type": "stream",
     "text": [
      "[nltk_data] Downloading package vader_lexicon to\n",
      "[nltk_data]     /Users/daniela/nltk_data...\n",
      "[nltk_data]   Package vader_lexicon is already up-to-date!\n"
     ]
    }
   ],
   "source": [
    "nltk.download('vader_lexicon')\n",
    "\n",
    "from nltk.sentiment.vader import SentimentIntensityAnalyzer\n",
    "\n",
    "sentiment_nltk = SentimentIntensityAnalyzer()\n",
    "\n",
    "def sentiment_parameters_nltk(text_data):\n",
    "    dict_scores = {}\n",
    "    try:\n",
    "        dict_scores = sentiment_nltk.polarity_scores(text_data)\n",
    "    except:\n",
    "        dict_scores['neg'] = np.nan\n",
    "        dict_scores['neu'] = np.nan\n",
    "        dict_scores['pos'] = np.nan\n",
    "    return dict_scores\n",
    "    "
   ]
  },
  {
   "cell_type": "code",
   "execution_count": 10,
   "metadata": {},
   "outputs": [],
   "source": [
    "textblob = [sentiment_parameters_textblob(r) for r in df_review['Review Text']]"
   ]
  },
  {
   "cell_type": "code",
   "execution_count": 11,
   "metadata": {},
   "outputs": [],
   "source": [
    "nltkList = [sentiment_parameters_nltk(r) for r in df_review['Review Text']]"
   ]
  },
  {
   "cell_type": "code",
   "execution_count": 12,
   "metadata": {},
   "outputs": [],
   "source": [
    "df_review['polTextB'] = [nested_dict['polarity'] for nested_dict in textblob]"
   ]
  },
  {
   "cell_type": "code",
   "execution_count": 13,
   "metadata": {},
   "outputs": [],
   "source": [
    "df_review['subTextB'] = [nested_dict['subjectivity'] for nested_dict in textblob]"
   ]
  },
  {
   "cell_type": "code",
   "execution_count": 14,
   "metadata": {},
   "outputs": [],
   "source": [
    "df_review['negNLTK'] = [nested_dict['neg'] for nested_dict in nltkList]"
   ]
  },
  {
   "cell_type": "code",
   "execution_count": 15,
   "metadata": {},
   "outputs": [],
   "source": [
    "df_review['neuNLTK'] = [nested_dict['neu'] for nested_dict in nltkList]"
   ]
  },
  {
   "cell_type": "code",
   "execution_count": 16,
   "metadata": {},
   "outputs": [],
   "source": [
    "df_review['posNLTK'] = [nested_dict['pos'] for nested_dict in nltkList]"
   ]
  },
  {
   "cell_type": "code",
   "execution_count": 22,
   "metadata": {},
   "outputs": [
    {
     "data": {
      "text/html": [
       "<div>\n",
       "<style scoped>\n",
       "    .dataframe tbody tr th:only-of-type {\n",
       "        vertical-align: middle;\n",
       "    }\n",
       "\n",
       "    .dataframe tbody tr th {\n",
       "        vertical-align: top;\n",
       "    }\n",
       "\n",
       "    .dataframe thead th {\n",
       "        text-align: right;\n",
       "    }\n",
       "</style>\n",
       "<table border=\"1\" class=\"dataframe\">\n",
       "  <thead>\n",
       "    <tr style=\"text-align: right;\">\n",
       "      <th></th>\n",
       "      <th>Clothing ID</th>\n",
       "      <th>Age</th>\n",
       "      <th>Title</th>\n",
       "      <th>Review Text</th>\n",
       "      <th>Rating</th>\n",
       "      <th>Recommended IND</th>\n",
       "      <th>Positive Feedback Count</th>\n",
       "      <th>Division Name</th>\n",
       "      <th>Department Name</th>\n",
       "      <th>Class Name</th>\n",
       "      <th>polTextB</th>\n",
       "      <th>subTextB</th>\n",
       "      <th>negNLTK</th>\n",
       "      <th>neuNLTK</th>\n",
       "      <th>posNLTK</th>\n",
       "      <th>Review_norm</th>\n",
       "    </tr>\n",
       "  </thead>\n",
       "  <tbody>\n",
       "    <tr>\n",
       "      <th>0</th>\n",
       "      <td>767</td>\n",
       "      <td>33</td>\n",
       "      <td>NaN</td>\n",
       "      <td>Absolutely wonderful - silky and sexy and comfortable</td>\n",
       "      <td>4</td>\n",
       "      <td>1</td>\n",
       "      <td>0</td>\n",
       "      <td>Initmates</td>\n",
       "      <td>Intimate</td>\n",
       "      <td>Intimates</td>\n",
       "      <td>0.633333</td>\n",
       "      <td>0.933333</td>\n",
       "      <td>0.0</td>\n",
       "      <td>0.272</td>\n",
       "      <td>0.728</td>\n",
       "      <td>absolutely wonderful silky sexy comfortable</td>\n",
       "    </tr>\n",
       "    <tr>\n",
       "      <th>1</th>\n",
       "      <td>1080</td>\n",
       "      <td>34</td>\n",
       "      <td>NaN</td>\n",
       "      <td>Love this dress!  it's sooo pretty.  i happened to find it in a store, and i'm glad i did bc i never would have ordered it online bc it's petite.  i bought a petite and am 5'8\".  i love the length on me- hits just a little below the knee.  would definitely be a true midi on someone who is truly petite.</td>\n",
       "      <td>5</td>\n",
       "      <td>1</td>\n",
       "      <td>4</td>\n",
       "      <td>General</td>\n",
       "      <td>Dresses</td>\n",
       "      <td>Dresses</td>\n",
       "      <td>0.339583</td>\n",
       "      <td>0.725000</td>\n",
       "      <td>0.0</td>\n",
       "      <td>0.664</td>\n",
       "      <td>0.336</td>\n",
       "      <td>love dress sooo pretty happen find store im glad bc never would order online bc petite buy petite love length hit little knee would definitely true midi someone truly petite</td>\n",
       "    </tr>\n",
       "  </tbody>\n",
       "</table>\n",
       "</div>"
      ],
      "text/plain": [
       "   Clothing ID  Age Title  \\\n",
       "0  767          33   NaN    \n",
       "1  1080         34   NaN    \n",
       "\n",
       "                                                                                                                                                                                                                                                                                                       Review Text  \\\n",
       "0  Absolutely wonderful - silky and sexy and comfortable                                                                                                                                                                                                                                                             \n",
       "1  Love this dress!  it's sooo pretty.  i happened to find it in a store, and i'm glad i did bc i never would have ordered it online bc it's petite.  i bought a petite and am 5'8\".  i love the length on me- hits just a little below the knee.  would definitely be a true midi on someone who is truly petite.   \n",
       "\n",
       "   Rating  Recommended IND  Positive Feedback Count Division Name  \\\n",
       "0  4       1                0                        Initmates      \n",
       "1  5       1                4                        General        \n",
       "\n",
       "  Department Name Class Name  polTextB  subTextB  negNLTK  neuNLTK  posNLTK  \\\n",
       "0  Intimate        Intimates  0.633333  0.933333  0.0      0.272    0.728     \n",
       "1  Dresses         Dresses    0.339583  0.725000  0.0      0.664    0.336     \n",
       "\n",
       "                                                                                                                                                                     Review_norm  \n",
       "0  absolutely wonderful silky sexy comfortable                                                                                                                                    \n",
       "1  love dress sooo pretty happen find store im glad bc never would order online bc petite buy petite love length hit little knee would definitely true midi someone truly petite  "
      ]
     },
     "execution_count": 22,
     "metadata": {},
     "output_type": "execute_result"
    }
   ],
   "source": [
    "df_review.head(2)"
   ]
  },
  {
   "cell_type": "markdown",
   "metadata": {},
   "source": [
    "### 2. Readibility scores and statistical tests"
   ]
  },
  {
   "cell_type": "code",
   "execution_count": null,
   "metadata": {},
   "outputs": [],
   "source": []
  },
  {
   "cell_type": "code",
   "execution_count": null,
   "metadata": {},
   "outputs": [],
   "source": []
  }
 ],
 "metadata": {
  "kernelspec": {
   "display_name": "Python 3",
   "language": "python",
   "name": "python3"
  },
  "language_info": {
   "codemirror_mode": {
    "name": "ipython",
    "version": 3
   },
   "file_extension": ".py",
   "mimetype": "text/x-python",
   "name": "python",
   "nbconvert_exporter": "python",
   "pygments_lexer": "ipython3",
   "version": "3.7.1"
  }
 },
 "nbformat": 4,
 "nbformat_minor": 2
}
